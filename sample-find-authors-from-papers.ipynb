{
 "cells": [
  {
   "cell_type": "markdown",
   "id": "8c267e50",
   "metadata": {},
   "source": [
    "# Scan accepted papers to find authors to invite"
   ]
  },
  {
   "cell_type": "code",
   "execution_count": 1,
   "id": "44bf99e8",
   "metadata": {},
   "outputs": [],
   "source": [
    "import re\n",
    "import os\n",
    "from collections import defaultdict\n",
    "import requests\n",
    "import time\n",
    "from bs4 import BeautifulSoup\n",
    "import pickle\n",
    "\n",
    "from tqdm.auto import tqdm\n",
    "from dataclasses import dataclass\n",
    "\n",
    "import unidecode  # used to handle names with unicode characters"
   ]
  },
  {
   "cell_type": "markdown",
   "id": "bba73630",
   "metadata": {},
   "source": [
    "## Load papers"
   ]
  },
  {
   "cell_type": "code",
   "execution_count": 2,
   "id": "4591fd01",
   "metadata": {},
   "outputs": [],
   "source": [
    "@dataclass\n",
    "class Paper:\n",
    "    conference: str\n",
    "    abstract: str\n",
    "    authors: list\n",
    "    title: str\n",
    "    url: str"
   ]
  },
  {
   "cell_type": "code",
   "execution_count": 3,
   "id": "fef39f8c",
   "metadata": {},
   "outputs": [],
   "source": [
    "with open(\"2019-2021-icml-iclr-neurips-papers.pkl\", \"rb\") as f:\n",
    "    all_papers = pickle.load(f)"
   ]
  },
  {
   "cell_type": "code",
   "execution_count": 4,
   "id": "973d1bed",
   "metadata": {},
   "outputs": [
    {
     "data": {
      "text/plain": [
       "8415"
      ]
     },
     "execution_count": 4,
     "metadata": {},
     "output_type": "execute_result"
    }
   ],
   "source": [
    "len(all_papers)"
   ]
  },
  {
   "cell_type": "markdown",
   "id": "e2dc4b0b",
   "metadata": {},
   "source": [
    "## Find relevant titles / abstracts"
   ]
  },
  {
   "cell_type": "code",
   "execution_count": 5,
   "id": "d8a3196e",
   "metadata": {},
   "outputs": [],
   "source": [
    "dgm_abstract_keywords = [\n",
    "    r\"(normal\\w* )flows?\",\n",
    "    r\"vaes?(\\s|[\\.,;:])\",\n",
    "    r\"variational autoencoder\",\n",
    "    r\"gans?(\\s|[\\.,;:])\",\n",
    "    r\"generative adversarial\",\n",
    "    r\"generative model\\w*\",\n",
    "#     r\"probabilistic model\\w*\",\n",
    "    r\"autoencoder\",\n",
    "    r\"latent variable\",\n",
    "]"
   ]
  },
  {
   "cell_type": "code",
   "execution_count": 6,
   "id": "c9ec47b6",
   "metadata": {},
   "outputs": [],
   "source": [
    "relevant_papers = []\n",
    "for paper in all_papers:\n",
    "    abstract = paper.abstract.replace(\"\\n\", \" \").lower()\n",
    "    has_keywords = any(re.search(k, abstract) for k in dgm_abstract_keywords)\n",
    "    if has_keywords:\n",
    "        relevant_papers.append(paper)\n",
    "    \n",
    "    del paper, abstract"
   ]
  },
  {
   "cell_type": "code",
   "execution_count": 7,
   "id": "7a639196",
   "metadata": {},
   "outputs": [
    {
     "data": {
      "text/plain": [
       "992"
      ]
     },
     "execution_count": 7,
     "metadata": {},
     "output_type": "execute_result"
    }
   ],
   "source": [
    "len(relevant_papers)"
   ]
  },
  {
   "cell_type": "markdown",
   "id": "02d85533",
   "metadata": {},
   "source": [
    "## Find authors (sometimes names are published with/without accents so I'm removing all accents)"
   ]
  },
  {
   "cell_type": "code",
   "execution_count": 8,
   "id": "c0ceb50f",
   "metadata": {},
   "outputs": [],
   "source": [
    "def standardize_author_name(name):\n",
    "    return unidecode.unidecode(name).lower()"
   ]
  },
  {
   "cell_type": "code",
   "execution_count": 9,
   "id": "d2629631",
   "metadata": {},
   "outputs": [],
   "source": [
    "authors_to_papers = defaultdict(list)\n",
    "for paper in relevant_papers:\n",
    "    for a in paper.authors:\n",
    "        authors_to_papers[standardize_author_name(a)].append(paper)"
   ]
  },
  {
   "cell_type": "code",
   "execution_count": 10,
   "id": "43edb3be",
   "metadata": {},
   "outputs": [],
   "source": [
    "first_authors_to_papers = defaultdict(list)\n",
    "for paper in relevant_papers:\n",
    "    for a in paper.authors[:1]:\n",
    "        first_authors_to_papers[standardize_author_name(a)].append(paper)"
   ]
  },
  {
   "cell_type": "markdown",
   "id": "0cf66155",
   "metadata": {},
   "source": [
    "## Select authors to invite"
   ]
  },
  {
   "cell_type": "markdown",
   "id": "0ecbcd0e",
   "metadata": {},
   "source": [
    "### Option 1: people with >= 2 first author papers"
   ]
  },
  {
   "cell_type": "code",
   "execution_count": null,
   "id": "b3ea029d",
   "metadata": {},
   "outputs": [],
   "source": [
    "selected = [a for a, v in first_authors_to_papers.items() if len(v) >= 2]\n",
    "for i, a in enumerate(selected):\n",
    "    print(f\"{i+1} {a.title():<25s} link to a paper: {authors_to_papers[a][0].url}\")"
   ]
  },
  {
   "cell_type": "markdown",
   "id": "067da7c0",
   "metadata": {},
   "source": [
    "### Option 2: people with names on >= 3 papers (any authorship position)"
   ]
  },
  {
   "cell_type": "code",
   "execution_count": null,
   "id": "4a4cca7f",
   "metadata": {},
   "outputs": [],
   "source": [
    "selected = [a for a, v in authors_to_papers.items() if len(v) >= 3]\n",
    "for i, a in enumerate(selected):\n",
    "    print(f\"{i+1} {a.title():<25s} link to a paper: {authors_to_papers[a][0].url}\")"
   ]
  },
  {
   "cell_type": "code",
   "execution_count": null,
   "id": "132e182b",
   "metadata": {},
   "outputs": [],
   "source": []
  }
 ],
 "metadata": {
  "kernelspec": {
   "display_name": "Python 3 (ipykernel)",
   "language": "python",
   "name": "python3"
  },
  "language_info": {
   "codemirror_mode": {
    "name": "ipython",
    "version": 3
   },
   "file_extension": ".py",
   "mimetype": "text/x-python",
   "name": "python",
   "nbconvert_exporter": "python",
   "pygments_lexer": "ipython3",
   "version": "3.7.10"
  }
 },
 "nbformat": 4,
 "nbformat_minor": 5
}
