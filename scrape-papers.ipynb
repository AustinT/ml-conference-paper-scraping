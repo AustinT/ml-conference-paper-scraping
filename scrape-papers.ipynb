{
 "cells": [
  {
   "cell_type": "markdown",
   "id": "738f8900",
   "metadata": {},
   "source": [
    "# Find accepted papers since 2019 from NeurIPS, ICLR, ICML\n",
    "To run, set the following environment variables to your openreview login.\n",
    "- `OPENREVIEW_USERNAME`\n",
    "- `OPENREVIEW_PASSWORD`"
   ]
  },
  {
   "cell_type": "code",
   "execution_count": 1,
   "id": "4439d790",
   "metadata": {},
   "outputs": [],
   "source": [
    "import re\n",
    "import os\n",
    "from collections import defaultdict\n",
    "import requests\n",
    "import time\n",
    "from bs4 import BeautifulSoup\n",
    "import pickle\n",
    "\n",
    "import openreview\n",
    "from tqdm.auto import tqdm\n",
    "from dataclasses import dataclass"
   ]
  },
  {
   "cell_type": "code",
   "execution_count": 2,
   "id": "8cb6b92f",
   "metadata": {},
   "outputs": [],
   "source": [
    "client = openreview.Client(\n",
    "    baseurl='https://api.openreview.net', \n",
    "    username=os.environ.get(\"OPENREVIEW_USERNAME\"),\n",
    "    password=os.environ.get(\"OPENREVIEW_PASSWORD\"),\n",
    ")"
   ]
  },
  {
   "cell_type": "code",
   "execution_count": 3,
   "id": "975236a4",
   "metadata": {},
   "outputs": [],
   "source": [
    "@dataclass\n",
    "class Paper:\n",
    "    conference: str\n",
    "    abstract: str\n",
    "    authors: list\n",
    "    title: str\n",
    "    url: str"
   ]
  },
  {
   "cell_type": "code",
   "execution_count": 4,
   "id": "29012ca7",
   "metadata": {},
   "outputs": [],
   "source": [
    "LIMIT = int(1e6)  # Limit on papers from each conference to prevent too much scraping"
   ]
  },
  {
   "cell_type": "code",
   "execution_count": 5,
   "id": "5b066bd8",
   "metadata": {},
   "outputs": [],
   "source": [
    "all_papers = list()"
   ]
  },
  {
   "cell_type": "markdown",
   "id": "d4a0fd37",
   "metadata": {},
   "source": [
    "### Title / author / abstract from last 2 NeurIPS"
   ]
  },
  {
   "cell_type": "code",
   "execution_count": 6,
   "id": "e3068ca8",
   "metadata": {},
   "outputs": [],
   "source": [
    "# Start by getting all the URLs to the paper homepage\n",
    "year_list = [2019, 2020]\n",
    "paper_urls = []\n",
    "for year in year_list:\n",
    "    \n",
    "    # Read page URL\n",
    "    home_url = f\"https://proceedings.neurips.cc/paper/{year}\"\n",
    "    response = requests.get(home_url)\n",
    "    soup = BeautifulSoup(response.text, \"html.parser\")\n",
    "    \n",
    "    # Find the list of papers\n",
    "    ul_list = soup.find_all(\"ul\")  # all ul items\n",
    "    assert len(ul_list) == 2\n",
    "    ul = ul_list[1]\n",
    "    for li in ul.find_all(\"li\"):\n",
    "        paper_homepage = li.find(\"a\")[\"href\"]\n",
    "        paper_urls.append(\"https://proceedings.neurips.cc\" + paper_homepage)\n",
    "\n",
    "del year, home_url, response, ul_list, ul, li, paper_homepage"
   ]
  },
  {
   "cell_type": "code",
   "execution_count": 7,
   "id": "046bab51",
   "metadata": {},
   "outputs": [
    {
     "data": {
      "application/vnd.jupyter.widget-view+json": {
       "model_id": "0c72bf0953b346a089755d81ec1f1434",
       "version_major": 2,
       "version_minor": 0
      },
      "text/plain": [
       "  0%|          | 0/3326 [00:00<?, ?it/s]"
      ]
     },
     "metadata": {},
     "output_type": "display_data"
    }
   ],
   "source": [
    "for paper_homepage in tqdm(paper_urls[:LIMIT]):\n",
    "    response = requests.get(paper_homepage)\n",
    "    soup = BeautifulSoup(response.text, \"html.parser\")\n",
    "    paragraphs = soup.find_all(\"p\")\n",
    "    authors = [name.strip() for name in paragraphs[1].text.split(\",\")]\n",
    "    \n",
    "    # Two cases for abstract\n",
    "    abstract = paragraphs[-1].text\n",
    "    title = soup.find_all(\"h4\")[0].text\n",
    "    all_papers.append(Paper(conference=\"neurips\", abstract=abstract, authors=authors, title=title, url=paper_homepage))\n",
    "\n",
    "del response, paper_homepage, paper_urls"
   ]
  },
  {
   "cell_type": "markdown",
   "id": "c3be5cef",
   "metadata": {},
   "source": [
    "## Last 3 ICML"
   ]
  },
  {
   "cell_type": "code",
   "execution_count": 8,
   "id": "d2019d0c",
   "metadata": {},
   "outputs": [],
   "source": [
    "# Start by getting all the URLs to the paper homepage\n",
    "edition_list = [\"v97\", \"v119\", \"v139\"]\n",
    "paper_urls = []\n",
    "for edition in edition_list:\n",
    "    \n",
    "    # Read page URL\n",
    "    home_url = f\"https://proceedings.mlr.press/{edition}\"\n",
    "    response = requests.get(home_url)\n",
    "    soup = BeautifulSoup(response.text, \"html.parser\")\n",
    "    \n",
    "    # Find the list of papers\n",
    "    paper_divs = soup.find_all(\"div\", attrs={\"class\": \"paper\"})\n",
    "    for paper in paper_divs:\n",
    "        paper_urls.append(paper.find(\"a\")[\"href\"])\n",
    "\n",
    "del edition, home_url, response, paper_divs, paper"
   ]
  },
  {
   "cell_type": "code",
   "execution_count": 9,
   "id": "49bc551a",
   "metadata": {},
   "outputs": [
    {
     "data": {
      "application/vnd.jupyter.widget-view+json": {
       "model_id": "bd7cf5f742634383a819f4bc66a90d02",
       "version_major": 2,
       "version_minor": 0
      },
      "text/plain": [
       "  0%|          | 0/3040 [00:00<?, ?it/s]"
      ]
     },
     "metadata": {},
     "output_type": "display_data"
    }
   ],
   "source": [
    "for paper_homepage in tqdm(paper_urls[:LIMIT]):\n",
    "    response = requests.get(paper_homepage)\n",
    "    soup = BeautifulSoup(response.text, \"html.parser\")\n",
    "    \n",
    "    # paper info\n",
    "    authors = [name.strip() for name in soup.find(\"span\", attrs={\"class\": \"authors\"}).text.split(\",\")]\n",
    "    abstract = soup.find(\"div\", attrs={\"class\": \"abstract\"}).text\n",
    "    title = soup.find(\"h1\").text\n",
    "    all_papers.append(Paper(conference=\"neurips\", abstract=abstract, authors=authors, title=title, url=paper_homepage))\n",
    "\n",
    "del response, paper_homepage, paper_urls, title, authors, abstract"
   ]
  },
  {
   "cell_type": "markdown",
   "id": "1b9ab635",
   "metadata": {},
   "source": [
    "## Last 3 ICLR"
   ]
  },
  {
   "cell_type": "code",
   "execution_count": 10,
   "id": "f8165ca4",
   "metadata": {},
   "outputs": [],
   "source": [
    "for year in [2019, 2020, 2021]:\n",
    "    invitation_name = f\"ICLR.cc/{year}/Conference/-/Blind_Submission\"\n",
    "    \n",
    "    submissions = list(\n",
    "        openreview.tools.iterget_notes(\n",
    "            client,\n",
    "            invitation=f\"ICLR.cc/{year}/Conference/-/Blind_Submission\"\n",
    "        )\n",
    "    )\n",
    "\n",
    "    meta_reviews = list(\n",
    "        openreview.tools.iterget_notes(\n",
    "            client,\n",
    "            invitation=f'ICLR.cc/{year}/Conference/-/Paper.*/Meta_Review'\n",
    "        )\n",
    "    )\n",
    "\n",
    "    decisions = list(\n",
    "        openreview.tools.iterget_notes(\n",
    "            client,\n",
    "            invitation=f'ICLR.cc/{year}/Conference/Paper.*/Decision'\n",
    "        )\n",
    "    )\n",
    "\n",
    "    iclr_accepted = []\n",
    "    for paper in submissions:\n",
    "\n",
    "        _added_paper = False\n",
    "\n",
    "        # Check acceptance by meta review\n",
    "        matching_meta_reviews = [mr for mr in meta_reviews if mr.forum == paper.id]\n",
    "        assert len(matching_meta_reviews) <= 1\n",
    "        if len(matching_meta_reviews) > 0:\n",
    "            if \"accept\" in matching_meta_reviews[0].content['recommendation'].lower():\n",
    "                iclr_accepted.append(paper)\n",
    "                _added_paper = True\n",
    "\n",
    "        # Check acceptance by decisions\n",
    "        matching_meta_reviews = [mr for mr in decisions if mr.forum == paper.id]\n",
    "        assert len(matching_meta_reviews) <= 1\n",
    "        if len(matching_meta_reviews) > 0:\n",
    "            if \"accept\" in matching_meta_reviews[0].content['decision'].lower():\n",
    "                assert not _added_paper  # no duplicate additions\n",
    "                iclr_accepted.append(paper)\n",
    "                _added_paper = True\n",
    "\n",
    "        del _added_paper\n",
    "\n",
    "    # Add papers\n",
    "    for paper in iclr_accepted[:LIMIT]:\n",
    "        all_papers.append(\n",
    "            Paper(\n",
    "        url=f\"https://openreview.net/forum?id={paper.id}\",\n",
    "        authors=paper.content['authors'],\n",
    "        title=paper.content['title'],\n",
    "        conference=\"iclr\",\n",
    "        abstract=paper.content['abstract'],\n",
    "\n",
    "            )\n",
    "        )\n",
    "    \n",
    "del year, submissions, meta_reviews, decisions, iclr_accepted"
   ]
  },
  {
   "cell_type": "code",
   "execution_count": 11,
   "id": "35119eb8",
   "metadata": {},
   "outputs": [
    {
     "data": {
      "text/plain": [
       "8415"
      ]
     },
     "execution_count": 11,
     "metadata": {},
     "output_type": "execute_result"
    }
   ],
   "source": [
    "len(all_papers)"
   ]
  },
  {
   "cell_type": "code",
   "execution_count": 12,
   "id": "b93fe236",
   "metadata": {},
   "outputs": [],
   "source": [
    "with open(\"2019-2021-icml-iclr-neurips-papers.pkl\", \"wb\") as f:\n",
    "    pickle.dump(all_papers, f)"
   ]
  },
  {
   "cell_type": "code",
   "execution_count": null,
   "id": "41620514",
   "metadata": {},
   "outputs": [],
   "source": []
  }
 ],
 "metadata": {
  "kernelspec": {
   "display_name": "Python 3 (ipykernel)",
   "language": "python",
   "name": "python3"
  },
  "language_info": {
   "codemirror_mode": {
    "name": "ipython",
    "version": 3
   },
   "file_extension": ".py",
   "mimetype": "text/x-python",
   "name": "python",
   "nbconvert_exporter": "python",
   "pygments_lexer": "ipython3",
   "version": "3.7.10"
  }
 },
 "nbformat": 4,
 "nbformat_minor": 5
}
